{
 "cells": [
  {
   "cell_type": "code",
   "execution_count": 1,
   "metadata": {},
   "outputs": [],
   "source": [
    "%matplotlib inline\n",
    "%load_ext autoreload\n",
    "%autoreload 2"
   ]
  },
  {
   "cell_type": "markdown",
   "metadata": {},
   "source": [
    "# Testing GCE"
   ]
  },
  {
   "cell_type": "code",
   "execution_count": 2,
   "metadata": {},
   "outputs": [],
   "source": [
    "from Bio.Data import CodonTable\n",
    "import random\n",
    "import json\n",
    "import gce"
   ]
  },
  {
   "cell_type": "markdown",
   "metadata": {},
   "source": [
    "**Confirm that normal dictionary has 20 amino acids and 61 unique codons**"
   ]
  },
  {
   "cell_type": "code",
   "execution_count": 3,
   "metadata": {
    "scrolled": false
   },
   "outputs": [
    {
     "name": "stdout",
     "output_type": "stream",
     "text": [
      "\n",
      "Number of amino acids in normal amino acid dictionary: 20\n",
      "Number of codons (excluding stop codons) in normal amino acid dictionary: 61\n",
      "\n"
     ]
    }
   ],
   "source": [
    "# Opening normal dictionaries\n",
    "normal_codon_to_aa_dict, normal_aa_to_codon_dict = gce.get_dicts(11)\n",
    "# normal_codon_to_aa_dict = dict(CodonTable.unambiguous_dna_by_id[11].forward_table)\n",
    "\n",
    "# normal_aa_to_codon_dict = {}\n",
    "# for codon,aminoacid in normal_codon_to_aa_dict.items():\n",
    "#     if aminoacid not in normal_aa_to_codon_dict.keys():\n",
    "#         normal_aa_to_codon_dict[aminoacid] = []\n",
    "#     normal_aa_to_codon_dict[aminoacid].append(codon)\n",
    "print(\"\\nNumber of amino acids in normal amino acid dictionary:\",len(normal_aa_to_codon_dict.keys()))\n",
    "\n",
    "\n",
    "# normal_codon_to_aa_dict = dict(CodonTable.unambiguous_dna_by_id[11].forward_table)\n",
    "print(\"Number of codons (excluding stop codons) in normal amino acid dictionary:\",len(normal_codon_to_aa_dict.keys()))\n",
    "print()"
   ]
  },
  {
   "cell_type": "markdown",
   "metadata": {},
   "source": [
    "**Make sure shuffled dictionaries have 20 distinct amino acids**"
   ]
  },
  {
   "cell_type": "code",
   "execution_count": 4,
   "metadata": {
    "scrolled": true
   },
   "outputs": [
    {
     "name": "stdout",
     "output_type": "stream",
     "text": [
      "\n",
      "Shuffled amino acid to codon dictionary amino acid count: 20\n",
      "Shuffled codon to amino acid dictionary amino acid count: 20\n",
      "\n",
      "Are the amino acid counts the same between the two shuffled dictionaries?\n",
      "True\n",
      "\n",
      "Are the individual amino acids the same between the two dictionaries?\n",
      "True\n"
     ]
    }
   ],
   "source": [
    "# Opening shuffled dictionaries (*fully shuffled*)\n",
    "\n",
    "with open(\"../data/shuffled_aa_to_codon_dict_0.json\", \"r\") as infile:\n",
    "            aa_to_codon_dict = json.load(infile)\n",
    "\n",
    "with open(\"../data/shuffled_codon_to_aa_dict_0.json\", \"r\") as infile:\n",
    "            codon_to_aa_dict = json.load(infile)        \n",
    "        \n",
    "        \n",
    "\n",
    "# Comparing number of amino acids in both shuffled dictionaries        \n",
    "        \n",
    "aa_to_codon_dict_aas = set(aa_to_codon_dict.keys())\n",
    "print(\"\\nShuffled amino acid to codon dictionary amino acid count:\",len(aa_to_codon_dict_aas))\n",
    "        \n",
    "codon_to_aa_dict_aas = set(codon_to_aa_dict.values())\n",
    "print(\"Shuffled codon to amino acid dictionary amino acid count:\",len(codon_to_aa_dict_aas))\n",
    "\n",
    "print(\"\\nAre the amino acid counts the same between the two shuffled dictionaries?\")\n",
    "print(len(aa_to_codon_dict_aas) == len(codon_to_aa_dict_aas))\n",
    "\n",
    "\n",
    "# Comparing the individual amino acids between both shuffled dictionaries\n",
    "\n",
    "print(\"\\nAre the individual amino acids the same between the two dictionaries?\")\n",
    "print(aa_to_codon_dict_aas == codon_to_aa_dict_aas)\n"
   ]
  },
  {
   "cell_type": "markdown",
   "metadata": {},
   "source": [
    "**Make sure shuffled dictionaries have 61 unique codons**"
   ]
  },
  {
   "cell_type": "code",
   "execution_count": 5,
   "metadata": {},
   "outputs": [
    {
     "name": "stdout",
     "output_type": "stream",
     "text": [
      "\n",
      "Shuffled amino acid to codon dictionary codon count: 61\n",
      "Shuffled codon to amino acid dictionary codon count: 61\n",
      "\n",
      "Are the codon counts the same between the two shuffled dictionaries?\n",
      "True\n",
      "\n",
      "Are the individual codons the same between the two dictionaries?\n",
      "True\n"
     ]
    }
   ],
   "source": [
    "# Comparing the number of codons between the shuffled dictionaries\n",
    "\n",
    "aa_to_codon_set = set()   # shuffled_aa_to_codon_dict set\n",
    "codon_to_aa_set = set()   # shuffled codon_to_aa_dict set\n",
    "\n",
    "aa_to_codon_dict_codons = aa_to_codon_dict.values()\n",
    "for codon_list in aa_to_codon_dict_codons:\n",
    "    for codon in codon_list:\n",
    "        aa_to_codon_set.add(codon)\n",
    "\n",
    "codon_to_aa_dict_codons = codon_to_aa_dict.keys()\n",
    "for codon in codon_to_aa_dict_codons:\n",
    "        codon_to_aa_set.add(codon)\n",
    "\n",
    "print(\"\\nShuffled amino acid to codon dictionary codon count:\",len(aa_to_codon_set))\n",
    "print(\"Shuffled codon to amino acid dictionary codon count:\",len(codon_to_aa_set))\n",
    "\n",
    "print(\"\\nAre the codon counts the same between the two shuffled dictionaries?\")\n",
    "print(len(aa_to_codon_set) == len(codon_to_aa_set))\n",
    "\n",
    "# Comparing the individual codons between both shuffled dictionaries\n",
    "\n",
    "print(\"\\nAre the individual codons the same between the two dictionaries?\")\n",
    "print(aa_to_codon_set == codon_to_aa_set)"
   ]
  },
  {
   "cell_type": "markdown",
   "metadata": {},
   "source": [
    "**Compare normal dictionary to shuffled dictionary**"
   ]
  },
  {
   "cell_type": "code",
   "execution_count": 6,
   "metadata": {
    "scrolled": false
   },
   "outputs": [
    {
     "name": "stdout",
     "output_type": "stream",
     "text": [
      "\n",
      "Is the normal dictionary the same as a shuffled dictionary?\n",
      "False\n",
      "\n",
      "Are the individual amino acids the same between the two dictionaries?\n",
      "True\n",
      "\n",
      "Are the individual codons the same between the two dictionaries?\n",
      "True\n"
     ]
    }
   ],
   "source": [
    "print(\"\\nIs the normal dictionary the same as a shuffled dictionary?\")\n",
    "print(normal_aa_to_codon_dict == aa_to_codon_dict)\n",
    "\n",
    "# Comparing the distinct amino acids between the shuffled dictionary and normal dictionary\n",
    "\n",
    "print(\"\\nAre the individual amino acids the same between the two dictionaries?\")\n",
    "print(normal_aa_to_codon_dict.keys() == aa_to_codon_dict_aas)\n",
    "\n",
    "# Comparing the distinct codons between the shuffled dictionary and normal dictionary\n",
    "\n",
    "print(\"\\nAre the individual codons the same between the two dictionaries?\")\n",
    "print(normal_codon_to_aa_dict.keys() == aa_to_codon_set)"
   ]
  },
  {
   "cell_type": "code",
   "execution_count": null,
   "metadata": {},
   "outputs": [],
   "source": []
  },
  {
   "cell_type": "code",
   "execution_count": null,
   "metadata": {},
   "outputs": [],
   "source": [
    "# compare mode 1 and mode 2\n",
    "\n",
    "# ensure that shuffled dicts are shuffled"
   ]
  }
 ],
 "metadata": {
  "kernelspec": {
   "display_name": "Python 3",
   "language": "python",
   "name": "python3"
  },
  "language_info": {
   "codemirror_mode": {
    "name": "ipython",
    "version": 3
   },
   "file_extension": ".py",
   "mimetype": "text/x-python",
   "name": "python",
   "nbconvert_exporter": "python",
   "pygments_lexer": "ipython3",
   "version": "3.6.7"
  }
 },
 "nbformat": 4,
 "nbformat_minor": 2
}
