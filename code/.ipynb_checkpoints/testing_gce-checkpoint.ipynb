{
 "cells": [
  {
   "cell_type": "markdown",
   "metadata": {},
   "source": [
    "# Testing GCE"
   ]
  },
  {
   "cell_type": "code",
   "execution_count": null,
   "metadata": {},
   "outputs": [],
   "source": [
    "# Problems\n",
    "# - jupyter opened with bash doesnt have biopython?\n",
    "# - "
   ]
  },
  {
   "cell_type": "code",
   "execution_count": null,
   "metadata": {},
   "outputs": [],
   "source": [
    "# read in files\n",
    "# - make sure 20 distinct amino acids (keys)\n",
    "#   set(aminoacids) = \n",
    "# - make sure 61 codons in file (distinct values, count items in lists; length of values should be 61)\n",
    "# -     set(codons)\n",
    "# - read in a normal codon dict\n",
    "# - read in scrambled dict\n",
    "# - compare the normal and scrambled dicts\n",
    "# - make sure 4s are scrambled with 4s, etc. \n",
    "\n",
    "# compare keys and values (in sets)\n",
    "# sets cannot have duplicates, so that's why it's important to compare them "
   ]
  },
  {
   "cell_type": "code",
   "execution_count": null,
   "metadata": {},
   "outputs": [],
   "source": []
  },
  {
   "cell_type": "code",
   "execution_count": 2,
   "metadata": {},
   "outputs": [
    {
     "ename": "ModuleNotFoundError",
     "evalue": "No module named 'Bio'",
     "output_type": "error",
     "traceback": [
      "\u001b[0;31m---------------------------------------------------------------------------\u001b[0m",
      "\u001b[0;31mModuleNotFoundError\u001b[0m                       Traceback (most recent call last)",
      "\u001b[0;32m<ipython-input-2-a404384d75eb>\u001b[0m in \u001b[0;36m<module>\u001b[0;34m()\u001b[0m\n\u001b[0;32m----> 1\u001b[0;31m \u001b[0;32mfrom\u001b[0m \u001b[0mBio\u001b[0m\u001b[0;34m.\u001b[0m\u001b[0mData\u001b[0m \u001b[0;32mimport\u001b[0m \u001b[0mCodonTable\u001b[0m\u001b[0;34m\u001b[0m\u001b[0;34m\u001b[0m\u001b[0m\n\u001b[0m\u001b[1;32m      2\u001b[0m \u001b[0;32mimport\u001b[0m \u001b[0mrandom\u001b[0m\u001b[0;34m\u001b[0m\u001b[0;34m\u001b[0m\u001b[0m\n\u001b[1;32m      3\u001b[0m \u001b[0;32mimport\u001b[0m \u001b[0mjson\u001b[0m\u001b[0;34m\u001b[0m\u001b[0;34m\u001b[0m\u001b[0m\n",
      "\u001b[0;31mModuleNotFoundError\u001b[0m: No module named 'Bio'"
     ]
    }
   ],
   "source": [
    "from Bio.Data import CodonTable\n",
    "import random\n",
    "import json"
   ]
  },
  {
   "cell_type": "code",
   "execution_count": null,
   "metadata": {},
   "outputs": [],
   "source": []
  },
  {
   "cell_type": "code",
   "execution_count": null,
   "metadata": {},
   "outputs": [],
   "source": []
  },
  {
   "cell_type": "markdown",
   "metadata": {},
   "source": [
    "**Confirm that normal dictionary has 20 amino acids and 61 unique codons**"
   ]
  },
  {
   "cell_type": "code",
   "execution_count": 67,
   "metadata": {
    "scrolled": false
   },
   "outputs": [
    {
     "name": "stdout",
     "output_type": "stream",
     "text": [
      "\n",
      "Number of amino acids in normal amino acid dictionary: 20\n",
      "Number of codons in normal amino acid dictionary: 61\n",
      "\n"
     ]
    }
   ],
   "source": [
    "# Opening normal dictionaries\n",
    "\n",
    "normal_aa_to_codon_dict = {}\n",
    "for codon,aminoacid in normal_codon_to_aa_dict.items():\n",
    "    if aminoacid not in normal_aa_to_codon_dict.keys():\n",
    "        normal_aa_to_codon_dict[aminoacid] = []\n",
    "    normal_aa_to_codon_dict[aminoacid].append(codon)\n",
    "print(\"\\nNumber of amino acids in normal amino acid dictionary:\",len(normal_aa_to_codon_dict.keys()))\n",
    "\n",
    "\n",
    "normal_codon_to_aa_dict = dict(CodonTable.unambiguous_dna_by_id[11].forward_table)\n",
    "print(\"Number of codons in normal amino acid dictionary:\",len(normal_codon_to_aa_dict.keys()))\n",
    "print()"
   ]
  },
  {
   "cell_type": "markdown",
   "metadata": {},
   "source": []
  },
  {
   "cell_type": "markdown",
   "metadata": {},
   "source": [
    "**Make sure shuffled dictionaries have 20 distinct amino acids**"
   ]
  },
  {
   "cell_type": "code",
   "execution_count": 58,
   "metadata": {
    "scrolled": true
   },
   "outputs": [
    {
     "name": "stdout",
     "output_type": "stream",
     "text": [
      "\n",
      "Shuffled amino acid to codon dictionary amino acid count: 20\n",
      "Shuffled codon to amino acid dictionary amino acid count: 20\n",
      "\n",
      "Are the amino acid counts the same between the two shuffled dictionaries?\n",
      "True\n",
      "\n",
      "Are the individual amino acids the same between the two dictionaries?\n",
      "True\n"
     ]
    }
   ],
   "source": [
    "# Opening shuffled dictionaries (*fully shuffled*)\n",
    "\n",
    "with open(\"../data/shuffled_aa_to_codon_dict_0.json\", \"r\") as infile:\n",
    "            aa_to_codon_dict = json.load(infile)\n",
    "\n",
    "with open(\"../data/shuffled_codon_to_aa_dict_0.json\", \"r\") as infile:\n",
    "            codon_to_aa_dict = json.load(infile)        \n",
    "        \n",
    "        \n",
    "\n",
    "# Comparing number of amino acids in both shuffled dictionaries        \n",
    "        \n",
    "aa_to_codon_dict_aas = set(aa_to_codon_dict.keys())\n",
    "print(\"\\nShuffled amino acid to codon dictionary amino acid count:\",len(aa_to_codon_dict_aas))\n",
    "        \n",
    "codon_to_aa_dict_aas = set(codon_to_aa_dict.values())\n",
    "print(\"Shuffled codon to amino acid dictionary amino acid count:\",len(codon_to_aa_dict_aas))\n",
    "\n",
    "print(\"\\nAre the amino acid counts the same between the two shuffled dictionaries?\")\n",
    "print(len(aa_to_codon_dict_aas) == len(codon_to_aa_dict_aas))\n",
    "\n",
    "\n",
    "# Comparing the individual amino acids between both shuffled dictionaries\n",
    "\n",
    "print(\"\\nAre the individual amino acids the same between the two dictionaries?\")\n",
    "print(aa_to_codon_dict_aas == codon_to_aa_dict_aas)\n"
   ]
  },
  {
   "cell_type": "markdown",
   "metadata": {},
   "source": []
  },
  {
   "cell_type": "markdown",
   "metadata": {},
   "source": [
    "**Make sure shuffled dictionaries have 61 unique codons**"
   ]
  },
  {
   "cell_type": "code",
   "execution_count": 74,
   "metadata": {},
   "outputs": [
    {
     "name": "stdout",
     "output_type": "stream",
     "text": [
      "\n",
      "Shuffled amino acid to codon dictionary codon count: 61\n",
      "Shuffled codon to amino acid dictionary codon count: 61\n",
      "\n",
      "Are the codon counts the same between the two shuffled dictionaries?\n",
      "True\n",
      "\n",
      "Are the individual codons the same between the two dictionaries?\n",
      "True\n"
     ]
    }
   ],
   "source": [
    "# Comparing the number of codons between the shuffled dictionaries\n",
    "\n",
    "aa_to_codon_set = set()   # shuffled_aa_to_codon_dict set\n",
    "codon_to_aa_set = set()   # shuffled codon_to_aa_dict set\n",
    "\n",
    "aa_to_codon_dict_codons = aa_to_codon_dict.values()\n",
    "for codon_list in aa_to_codon_dict_codons:\n",
    "    for codon in codon_list:\n",
    "        aa_to_codon_set.add(codon)\n",
    "\n",
    "codon_to_aa_dict_codons = codon_to_aa_dict.keys()\n",
    "for codon in codon_to_aa_dict_codons:\n",
    "        codon_to_aa_set.add(codon)\n",
    "\n",
    "print(\"\\nShuffled amino acid to codon dictionary codon count:\",len(codon_set_1))\n",
    "print(\"Shuffled codon to amino acid dictionary codon count:\",len(codon_set_2))\n",
    "\n",
    "print(\"\\nAre the codon counts the same between the two shuffled dictionaries?\")\n",
    "print(len(aa_to_codon_set) == len(codon_to_aa_set))\n",
    "\n",
    "# Comparing the individual codons between both shuffled dictionaries\n",
    "\n",
    "print(\"\\nAre the individual codons the same between the two dictionaries?\")\n",
    "print(aa_to_codon_set == codon_to_aa_set)"
   ]
  },
  {
   "cell_type": "markdown",
   "metadata": {},
   "source": []
  },
  {
   "cell_type": "markdown",
   "metadata": {},
   "source": [
    "**Compare normal dictionary to shuffled dictionary**"
   ]
  },
  {
   "cell_type": "code",
   "execution_count": 2,
   "metadata": {
    "scrolled": true
   },
   "outputs": [
    {
     "name": "stdout",
     "output_type": "stream",
     "text": [
      "\n",
      "Is the normal dictionary the same as a shuffled dictionary?\n"
     ]
    },
    {
     "ename": "NameError",
     "evalue": "name 'normal_aa_to_codon_dict' is not defined",
     "output_type": "error",
     "traceback": [
      "\u001b[0;31m---------------------------------------------------------------------------\u001b[0m",
      "\u001b[0;31mNameError\u001b[0m                                 Traceback (most recent call last)",
      "\u001b[0;32m<ipython-input-2-eaa91ead3f31>\u001b[0m in \u001b[0;36m<module>\u001b[0;34m()\u001b[0m\n\u001b[1;32m      1\u001b[0m \u001b[0mprint\u001b[0m\u001b[0;34m(\u001b[0m\u001b[0;34m\"\\nIs the normal dictionary the same as a shuffled dictionary?\"\u001b[0m\u001b[0;34m)\u001b[0m\u001b[0;34m\u001b[0m\u001b[0;34m\u001b[0m\u001b[0m\n\u001b[0;32m----> 2\u001b[0;31m \u001b[0mprint\u001b[0m\u001b[0;34m(\u001b[0m\u001b[0mnormal_aa_to_codon_dict\u001b[0m \u001b[0;34m==\u001b[0m \u001b[0maa_to_codon_dict\u001b[0m\u001b[0;34m)\u001b[0m\u001b[0;34m\u001b[0m\u001b[0;34m\u001b[0m\u001b[0m\n\u001b[0m\u001b[1;32m      3\u001b[0m \u001b[0;34m\u001b[0m\u001b[0m\n\u001b[1;32m      4\u001b[0m \u001b[0;31m# Comparing the distinct amino acids between the shuffled dictionary and normal dictionary\u001b[0m\u001b[0;34m\u001b[0m\u001b[0;34m\u001b[0m\u001b[0;34m\u001b[0m\u001b[0m\n\u001b[1;32m      5\u001b[0m \u001b[0;34m\u001b[0m\u001b[0m\n",
      "\u001b[0;31mNameError\u001b[0m: name 'normal_aa_to_codon_dict' is not defined"
     ]
    }
   ],
   "source": [
    "print(\"\\nIs the normal dictionary the same as a shuffled dictionary?\")\n",
    "print(normal_aa_to_codon_dict == aa_to_codon_dict)\n",
    "\n",
    "# Comparing the distinct amino acids between the shuffled dictionary and normal dictionary\n",
    "\n",
    "print(\"\\nAre the individual amino acids the same between the two dictionaries?\")\n",
    "print(normal_aa_to_codon_dict.keys() == aa_to_codon_dict_aas)\n",
    "\n",
    "# Comparing the distinct codons between the shuffled dictionary and normal dictionary\n",
    "\n",
    "print(\"\\nAre the individual codons the same between the two dictionaries?\")\n",
    "print(normal_codon_to_aa_dict.keys() == aa_to_codon_set)"
   ]
  },
  {
   "cell_type": "markdown",
   "metadata": {},
   "source": []
  },
  {
   "cell_type": "code",
   "execution_count": null,
   "metadata": {},
   "outputs": [],
   "source": []
  },
  {
   "cell_type": "code",
   "execution_count": null,
   "metadata": {},
   "outputs": [],
   "source": []
  },
  {
   "cell_type": "code",
   "execution_count": null,
   "metadata": {},
   "outputs": [],
   "source": []
  },
  {
   "cell_type": "code",
   "execution_count": null,
   "metadata": {},
   "outputs": [],
   "source": []
  },
  {
   "cell_type": "code",
   "execution_count": null,
   "metadata": {},
   "outputs": [],
   "source": []
  },
  {
   "cell_type": "code",
   "execution_count": null,
   "metadata": {},
   "outputs": [],
   "source": []
  },
  {
   "cell_type": "code",
   "execution_count": null,
   "metadata": {},
   "outputs": [],
   "source": [
    "with open(\"../data/shuffled_aa_to_codon_dict_{}.json\".format(i), \"r\") as outfile:\n",
    "            json.dump(aa_to_codon, outfile)\n",
    "with open(\"../data/shuffled_codon_to_aa_dict_{}.json\".format(i), \"r\") as outfile:\n",
    "            json.dump(codon_to_aa, outfile)"
   ]
  },
  {
   "cell_type": "code",
   "execution_count": 34,
   "metadata": {},
   "outputs": [],
   "source": [
    "output_json = json.load(open('../data/shuffled_aa_to_codon_dict_1.json', 'r'))"
   ]
  },
  {
   "cell_type": "code",
   "execution_count": 35,
   "metadata": {},
   "outputs": [
    {
     "data": {
      "text/plain": [
       "{'M': ['TGG'],\n",
       " 'W': ['ATG'],\n",
       " 'Q': ['TTT', 'TTC'],\n",
       " 'E': ['TAT', 'TAC'],\n",
       " 'F': ['TGT', 'TGC'],\n",
       " 'C': ['CAT', 'CAC'],\n",
       " 'D': ['CAA', 'CAG'],\n",
       " 'K': ['AAT', 'AAC'],\n",
       " 'H': ['AAA', 'AAG'],\n",
       " 'N': ['GAT', 'GAC'],\n",
       " 'Y': ['GAA', 'GAG'],\n",
       " 'I': ['ATT', 'ATC', 'ATA'],\n",
       " 'T': ['CCT', 'CCC', 'CCA', 'CCG'],\n",
       " 'P': ['ACT', 'ACC', 'ACA', 'ACG'],\n",
       " 'A': ['GTT', 'GTC', 'GTA', 'GTG'],\n",
       " 'G': ['GCT', 'GCC', 'GCA', 'GCG'],\n",
       " 'V': ['GGT', 'GGC', 'GGA', 'GGG'],\n",
       " 'R': ['TTA', 'TTG', 'CTT', 'CTC', 'CTA', 'CTG'],\n",
       " 'S': ['TCT', 'TCC', 'TCA', 'TCG', 'AGT', 'AGC'],\n",
       " 'L': ['CGT', 'CGC', 'CGA', 'CGG', 'AGA', 'AGG']}"
      ]
     },
     "execution_count": 35,
     "metadata": {},
     "output_type": "execute_result"
    }
   ],
   "source": [
    "output_json"
   ]
  },
  {
   "cell_type": "code",
   "execution_count": 53,
   "metadata": {},
   "outputs": [],
   "source": [
    "with open(\"../data/shuffled_aa_to_codon_dict_{}.json\".format(i), \"r\") as infile:\n",
    "            aa_to_codon_dict = json.load(infile)"
   ]
  },
  {
   "cell_type": "code",
   "execution_count": 54,
   "metadata": {},
   "outputs": [
    {
     "data": {
      "text/plain": [
       "{'W': ['TGG'],\n",
       " 'M': ['ATG'],\n",
       " 'D': ['TTT', 'TTC'],\n",
       " 'N': ['TAT', 'TAC'],\n",
       " 'Y': ['TGT', 'TGC'],\n",
       " 'E': ['CAT', 'CAC'],\n",
       " 'F': ['CAA', 'CAG'],\n",
       " 'H': ['AAT', 'AAC'],\n",
       " 'K': ['AAA', 'AAG'],\n",
       " 'C': ['GAT', 'GAC'],\n",
       " 'Q': ['GAA', 'GAG'],\n",
       " 'I': ['ATT', 'ATC', 'ATA'],\n",
       " 'P': ['CCT', 'CCC', 'CCA', 'CCG'],\n",
       " 'A': ['ACT', 'ACC', 'ACA', 'ACG'],\n",
       " 'T': ['GTT', 'GTC', 'GTA', 'GTG'],\n",
       " 'V': ['GCT', 'GCC', 'GCA', 'GCG'],\n",
       " 'G': ['GGT', 'GGC', 'GGA', 'GGG'],\n",
       " 'L': ['TTA', 'TTG', 'CTT', 'CTC', 'CTA', 'CTG'],\n",
       " 'S': ['TCT', 'TCC', 'TCA', 'TCG', 'AGT', 'AGC'],\n",
       " 'R': ['CGT', 'CGC', 'CGA', 'CGG', 'AGA', 'AGG']}"
      ]
     },
     "execution_count": 54,
     "metadata": {},
     "output_type": "execute_result"
    }
   ],
   "source": [
    "aa_to_codon_dict"
   ]
  },
  {
   "cell_type": "code",
   "execution_count": null,
   "metadata": {},
   "outputs": [],
   "source": []
  }
 ],
 "metadata": {
  "kernelspec": {
   "display_name": "Python 3",
   "language": "python",
   "name": "python3"
  },
  "language_info": {
   "codemirror_mode": {
    "name": "ipython",
    "version": 3
   },
   "file_extension": ".py",
   "mimetype": "text/x-python",
   "name": "python",
   "nbconvert_exporter": "python",
   "pygments_lexer": "ipython3",
   "version": "3.6.7"
  }
 },
 "nbformat": 4,
 "nbformat_minor": 2
}
