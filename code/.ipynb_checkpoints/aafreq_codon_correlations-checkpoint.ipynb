{
 "cells": [
  {
   "cell_type": "code",
   "execution_count": 1,
   "metadata": {
    "collapsed": true
   },
   "outputs": [],
   "source": [
    "%matplotlib inline"
   ]
  },
  {
   "cell_type": "markdown",
   "metadata": {},
   "source": [
    "# Imports"
   ]
  },
  {
   "cell_type": "code",
   "execution_count": 2,
   "metadata": {
    "collapsed": true
   },
   "outputs": [],
   "source": [
    "from Bio import SeqIO\n",
    "from Bio.Data import CodonTable\n",
    "import glob\n",
    "\n",
    "from scipy import stats\n",
    "import numpy as np\n",
    "from matplotlib import pyplot as plt"
   ]
  },
  {
   "cell_type": "markdown",
   "metadata": {},
   "source": [
    "# Get fairly independent list of proteins for analysis\n",
    "\n",
    "There are a lot of ways to do this. I'm just showing an example from a dataset that I have previously used for different analyses which consists of ~150 highly diverged proteins.\n",
    "\n",
    "All I'm doing is reading in the `.fasta` file that contains the proteins and extracting their sequences into a list called `all_seqs`"
   ]
  },
  {
   "cell_type": "code",
   "execution_count": 3,
   "metadata": {},
   "outputs": [],
   "source": [
    "seqs_file = '../Data/example_sequences.fasta'\n",
    "records = list(SeqIO.parse(seqs_file, 'fasta'))\n",
    "all_seqs = [str(record.seq) for record in records]"
   ]
  },
  {
   "cell_type": "markdown",
   "metadata": {},
   "source": [
    "**Inspect a few of them**"
   ]
  },
  {
   "cell_type": "code",
   "execution_count": 4,
   "metadata": {},
   "outputs": [
    {
     "data": {
      "text/plain": [
       "['WKSGGASHSELIHNLRKNGIIKTDKVFEVMLATDRSHYAKCNPYMDSPQSIGFQATISAPHMHAYALELLFDQLHEGAKALDVGSGSGILTACFARMVGCTGKVIGIDHIKELVDDSVNNVRKDDPTLLSSGRVQLVVGDGRMGYAEEAPYDAIHVGAAAPVVPQALIDQLKPGGRLILPVGPAGGNQMLEQYDKLQDGSIKMKPLMGVIYVPLTDKEKQWSRW',\n",
       " 'LPSFVDWRSKGAVNSIKNQKQCGSCWAFSAVAAVESINKIRTGQLISLSEQELVDCDTASHGCNGGWMNNAFQYIITNGGIDTQQNYPYSAVQGSCKPYRLRVVSINGFQRVTRNNESALQSAVASQPVSVTVEAAGAPFQHYSSGIFTGPCGTAQNHGVVIVGYGTQSGKNYWIVRNSWGQNWGNQGYIWMERNVASSAGLCGIAQLPSYPTKA',\n",
       " 'NMNIEEFTSGLAEKGISLSPRQLEQFELYYDMLVEWNEKINLTSITEKKEVYLKHFYDSITAAFYVDFNQVNTICDVGAGAGFPSLPIKICFPHLHVTIVDSLNKRITFLEKLSEALQLENTTFCHDRAETFGQRKDVRESYDIVTARAVARLSVLSELCLPLVKKNGLFVALKAAAEEELNAGKKAITTLGGELENIHSFKLPIEESDRNIMVIRKIKNTPKKYPRKPGTPNKSPIE',\n",
       " 'MKTPRRRMRLAVFKALFQHEFRRDEDLEQILEEILDETYDKKAKEDARRYIRGIKENLSMIDDLISRYLEKWSLNRLSVVDRNVLRLATYELLFEKDIPIEVTIDEAIEIAKRYGTENSGKFVNGILDRIAKEHAPKEKFE',\n",
       " 'CGIVGAIAQRDVAEILLEGLRRLEYRGYDSAGLAVVDAEGHMTRLRRLGKVQMLAQAAEEHPLHGGTGIAHTRWATHGEPSEVNAHPHVSEHIVVVHNGIIENHEPLREELKARGYTFVSETDTEVIAHLVNWELKQGGTLREAVLRAIPQLRGAYGTVIMDSRHPDTLLAARSGSPLVIGLGMGENFIASDQLALLPVTRRFIFLEEGDIAEITRRSVNIFDKTGAEVKRQDIESNL']"
      ]
     },
     "execution_count": 4,
     "metadata": {},
     "output_type": "execute_result"
    }
   ],
   "source": [
    "all_seqs[:5]"
   ]
  },
  {
   "cell_type": "markdown",
   "metadata": {},
   "source": [
    "**And double check the numbers**"
   ]
  },
  {
   "cell_type": "code",
   "execution_count": 5,
   "metadata": {},
   "outputs": [
    {
     "data": {
      "text/plain": [
       "149"
      ]
     },
     "execution_count": 5,
     "metadata": {},
     "output_type": "execute_result"
    }
   ],
   "source": [
    "len(all_seqs)"
   ]
  },
  {
   "cell_type": "code",
   "execution_count": null,
   "metadata": {
    "collapsed": true
   },
   "outputs": [],
   "source": []
  },
  {
   "cell_type": "markdown",
   "metadata": {},
   "source": [
    "# Analyze!\n",
    "\n",
    "**First get the `codon_to_aa_dict` and `aa_to_codon_dict` to make things easier**"
   ]
  },
  {
   "cell_type": "code",
   "execution_count": 6,
   "metadata": {},
   "outputs": [],
   "source": [
    "codon_to_aa_dict = dict(CodonTable.unambiguous_dna_by_id[11].forward_table)\n",
    "aa_to_codon_dict = {}\n",
    "for codon,aminoacid in codon_to_aa_dict.items():\n",
    "    if aminoacid not in aa_to_codon_dict.keys():\n",
    "        aa_to_codon_dict[aminoacid] = []\n",
    "    aa_to_codon_dict[aminoacid].append(codon)"
   ]
  },
  {
   "cell_type": "markdown",
   "metadata": {},
   "source": [
    "**And make sure that it looks good**"
   ]
  },
  {
   "cell_type": "code",
   "execution_count": 7,
   "metadata": {},
   "outputs": [
    {
     "data": {
      "text/plain": [
       "{'A': ['GCT', 'GCA', 'GCC', 'GCG'],\n",
       " 'C': ['TGT', 'TGC'],\n",
       " 'D': ['GAT', 'GAC'],\n",
       " 'E': ['GAA', 'GAG'],\n",
       " 'F': ['TTC', 'TTT'],\n",
       " 'G': ['GGA', 'GGC', 'GGT', 'GGG'],\n",
       " 'H': ['CAC', 'CAT'],\n",
       " 'I': ['ATA', 'ATT', 'ATC'],\n",
       " 'K': ['AAA', 'AAG'],\n",
       " 'L': ['TTG', 'CTG', 'TTA', 'CTT', 'CTC', 'CTA'],\n",
       " 'M': ['ATG'],\n",
       " 'N': ['AAT', 'AAC'],\n",
       " 'P': ['CCG', 'CCA', 'CCT', 'CCC'],\n",
       " 'Q': ['CAA', 'CAG'],\n",
       " 'R': ['CGT', 'AGA', 'AGG', 'CGG', 'CGA', 'CGC'],\n",
       " 'S': ['TCT', 'AGC', 'TCG', 'TCC', 'AGT', 'TCA'],\n",
       " 'T': ['ACA', 'ACC', 'ACT', 'ACG'],\n",
       " 'V': ['GTG', 'GTT', 'GTC', 'GTA'],\n",
       " 'W': ['TGG'],\n",
       " 'Y': ['TAT', 'TAC']}"
      ]
     },
     "execution_count": 7,
     "metadata": {},
     "output_type": "execute_result"
    }
   ],
   "source": [
    "aa_to_codon_dict"
   ]
  },
  {
   "cell_type": "markdown",
   "metadata": {},
   "source": [
    "# Treat each protein as a separate possible correlation\n",
    "\n",
    "The correlation that we care about here is between the number of codons for a particular amino acid (1,2,3,4, or 6, put in the list `x_vals`) against the frequency of that amino acid in the protein (`y_vals`). There should be ~150 different correlations and p-values that result from this analysis.\n",
    "\n",
    "Note that our correlation method here is called Spearman's rho, which is a conservative non-paremetric correlation coefficient. That is to say, it's different from linear regression in that it doesn't assume a linear form in the relationship and is a generally more conservative statistical test. "
   ]
  },
  {
   "cell_type": "code",
   "execution_count": 12,
   "metadata": {},
   "outputs": [],
   "source": [
    "all_correlations = []\n",
    "all_pvals = []\n",
    "for seq in all_seqs:\n",
    "    x_vals = []\n",
    "    y_vals = []\n",
    "    #Go through each amino acid\n",
    "    for aa in aa_to_codon_dict.keys():\n",
    "        #Append the number of codons for that amino acid to x_vals\n",
    "        x_vals.append(len(aa_to_codon_dict[aa]))\n",
    "        #And the number of that amino acid in the sequence divided by the total sequence length to y_vals\n",
    "        y_vals.append(seq.count(aa)/len(seq))\n",
    "    #Perform a non-parametric correlation\n",
    "    single_corr, single_p = stats.spearmanr(x_vals, y_vals)\n",
    "    all_correlations.append(single_corr)\n",
    "    all_pvals.append(single_p)"
   ]
  },
  {
   "cell_type": "markdown",
   "metadata": {},
   "source": [
    "**Look at a single example (based on the above code this just looks at the last protein in the list)**\n",
    "\n",
    "This is the basic correlation data that we performed for all ~150 proteins but it's always good to see an example"
   ]
  },
  {
   "cell_type": "code",
   "execution_count": 13,
   "metadata": {},
   "outputs": [
    {
     "data": {
      "text/plain": [
       "<matplotlib.text.Text at 0x11b114f60>"
      ]
     },
     "execution_count": 13,
     "metadata": {},
     "output_type": "execute_result"
    },
    {
     "data": {
      "image/png": "[encoded data removed]",
      "text/plain": [
       "<matplotlib.figure.Figure at 0x11b0a42b0>"
      ]
     },
     "metadata": {},
     "output_type": "display_data"
    }
   ],
   "source": [
    "fig, ax = plt.subplots()\n",
    "ax.plot(x_vals, y_vals, 'bo')\n",
    "ax.set_xlabel('# of codons for each amino acid')\n",
    "ax.set_ylabel('a.a. frequency')\n",
    "ax.set_title(r\"Spearman's $\\rho$ = {:f}, $p$={:f}\".format(single_corr,single_p))"
   ]
  },
  {
   "cell_type": "markdown",
   "metadata": {},
   "source": [
    "** Looking at the aggregated results for all proteins**"
   ]
  },
  {
   "cell_type": "code",
   "execution_count": 14,
   "metadata": {},
   "outputs": [
    {
     "data": {
      "text/plain": [
       "<matplotlib.text.Text at 0x11b3e1860>"
      ]
     },
     "execution_count": 14,
     "metadata": {},
     "output_type": "execute_result"
    },
    {
     "data": {
      "image/png": "[encoded data removed]",
      "text/plain": [
       "<matplotlib.figure.Figure at 0x11b319ba8>"
      ]
     },
     "metadata": {},
     "output_type": "display_data"
    }
   ],
   "source": [
    "fig, ax_arr = plt.subplots(nrows=1, ncols=2, figsize=(12,4))\n",
    "ax_arr[0].hist(all_correlations, 20)\n",
    "ax_arr[0].set_xlabel(r\"Spearman's $\\rho$\")\n",
    "ax_arr[0].set_ylabel('Count')\n",
    "ax_arr[1].hist(all_pvals, 20)\n",
    "ax_arr[1].axvline(0.05, color='r')\n",
    "ax_arr[1].set_xlabel(r\"$p$-value\")\n",
    "ax_arr[1].set_ylabel('Count')"
   ]
  },
  {
   "cell_type": "markdown",
   "metadata": {},
   "source": [
    "**And some summary statistics of those findings**"
   ]
  },
  {
   "cell_type": "code",
   "execution_count": 15,
   "metadata": {},
   "outputs": [
    {
     "name": "stdout",
     "output_type": "stream",
     "text": [
      "Mean correlation: 0.445638949796 \n",
      " Median correlation: 0.462772965027 \n",
      " Number of significant correlations: 84 \n",
      " Total number or correlations assessed: 149 \n",
      " Median p-value: 0.0399115269072\n"
     ]
    }
   ],
   "source": [
    "print('Mean correlation:', np.mean(all_correlations), '\\n',\\\n",
    "      'Median correlation:', np.median(all_correlations), '\\n',\\\n",
    "      'Number of significant correlations:', len([i for i in all_pvals if i < 0.05]), '\\n',\\\n",
    "      'Total number or correlations assessed:', len(all_pvals), '\\n',\\\n",
    "     'Median p-value:', np.median(all_pvals))"
   ]
  },
  {
   "cell_type": "markdown",
   "metadata": {},
   "source": [
    "** This is a little weeds-y, but we can combine p-values using a standard method from each of these (assumed to be independent) p-values to determine an overall p-value for the set of proteins:**"
   ]
  },
  {
   "cell_type": "code",
   "execution_count": 16,
   "metadata": {},
   "outputs": [
    {
     "name": "stdout",
     "output_type": "stream",
     "text": [
      "1.45210556062e-84\n"
     ]
    }
   ],
   "source": [
    "test_stat, meta_p = stats.combine_pvalues(all_pvals, method='fisher')\n",
    "\n",
    "print(meta_p)"
   ]
  },
  {
   "cell_type": "markdown",
   "metadata": {},
   "source": [
    "Let's parse that p-value out a bit. Under the null hypothesis (that there is no relationship between codon number per amino acid and the frequency of amino acids used in a protein), we would expect to observe correlations this strong (or stronger) with a probability of ~10\\*\\*-84. So, basically never.\n",
    "\n",
    "Another (more colloquial) way of putting that p-value into context is that if nothing interesting was happening, we'd have to look at ~10\\*\\*84 similar observations (sets of correlations from ~150 proteins) to observe a set of correlations this large (having 84 out of 149 be independently significant). Ergo, it's really unlikely that nothing interesting is happening. I stress this because it's important to note that this finding/p-value makes no statement about the probability that our hypothesis is correct. Lot's of other things could be going on here and we need to be precise with our interpretation of p-values. But what we can say, is that the probability that nothing interesting is happening is virtually zero. "
   ]
  },
  {
   "cell_type": "code",
   "execution_count": null,
   "metadata": {
    "collapsed": true
   },
   "outputs": [],
   "source": []
  },
  {
   "cell_type": "markdown",
   "metadata": {},
   "source": [
    "# Alternatively, instead of treating each protein independently we could look at them all combined \n",
    "\n",
    "**(by concatenating all proteins together into one big super-protein)**\n",
    "\n",
    "Ideologically, this is a completely different way of looking at the problem. Either approach could arguably be called \"correct\" (though I much prefer the previous way), they just make different assumptions (and as you'll see this method is much more conservative and still results in a signficant relationship)"
   ]
  },
  {
   "cell_type": "code",
   "execution_count": 17,
   "metadata": {},
   "outputs": [
    {
     "name": "stdout",
     "output_type": "stream",
     "text": [
      "0.651580844196 0.00185538540022\n"
     ]
    }
   ],
   "source": [
    "all_seqs_concat = ''.join(all_seqs)\n",
    "all_len = len(all_seqs_concat)\n",
    "x_vals = []\n",
    "y_vals = []\n",
    "for aa in aa_to_codon_dict.keys():\n",
    "    x_vals.append(len(aa_to_codon_dict[aa]))\n",
    "    y_vals.append(all_seqs_concat.count(aa)/all_len)\n",
    "combined_corr, combined_p = stats.spearmanr(x_vals, y_vals)\n",
    "print(combined_corr, combined_p)"
   ]
  },
  {
   "cell_type": "code",
   "execution_count": 18,
   "metadata": {},
   "outputs": [
    {
     "data": {
      "text/plain": [
       "<matplotlib.text.Text at 0x11a39b748>"
      ]
     },
     "execution_count": 18,
     "metadata": {},
     "output_type": "execute_result"
    },
    {
     "data": {
      "image/png": "[encoded data removed]",
      "text/plain": [
       "<matplotlib.figure.Figure at 0x11b0f5470>"
      ]
     },
     "metadata": {},
     "output_type": "display_data"
    }
   ],
   "source": [
    "fig, ax = plt.subplots()\n",
    "ax.plot(x_vals, y_vals, 'bo')\n",
    "ax.set_xlabel('# of codons for each amino acid')\n",
    "ax.set_ylabel('a.a. frequency')\n",
    "ax.set_title(r\"Spearman's $\\rho$ = {:f}, $p$={:f}\".format(combined_corr,combined_p))"
   ]
  },
  {
   "cell_type": "markdown",
   "metadata": {},
   "source": [
    "The p-value here is much larger. Why? In the previous method (that I prefer) we are actually saying something equivalent to this:\n",
    "\n",
    "Okay so you flipped a nickel 10 times and got 6 heads. No big deal right? I mean, it wouldn't be surprising to find out that the nickel is completely unbiased and the p-value for 6 heads out of 10 flips is definitely  not significant in the least bit. But what if I had 150 people flip nickels ten times and all of them got 6 heads out of 10? Well, even though no single one of them has the statistical power to say that nickels are biased, in aggregate we are pretty sure that there is something strange going on with nickels.\n",
    "\n",
    "In this latter analysis, it's more like you flip a nickel 150\\*10=1500 times. And you get 150\\*6=900 heads. Statistically, the overall p-value might still be significant (we observed 900 heads but we only expected to observe ~750) but we maybe shouldn't expect the p-value to be identical to the first method. After all, you're flipping *one* nickel and maybe there is something wrong with you and/or that single nickel that you happened to have in your pocket. We are much more confident (and have the statistical power to assign smaller p-values as a result) in the former case because we kind of have 150 *different* people flipping 150 *different* nickels. So as a statement about nickels in general, this first case is a much more powerful way to test a hypothesis about nickels compared to the case where you tediously flip a single nickel 1500 times.\n",
    "\n",
    "That all said, it's still re-assuring that in this combined analysis of proteins the p-value is nevertheless still < 0.01 and this should give us confidence that we're on to something. Of course, that something has been known for a long time but this should serve as the fundamental motivation for the project."
   ]
  },
  {
   "cell_type": "code",
   "execution_count": null,
   "metadata": {
    "collapsed": true
   },
   "outputs": [],
   "source": []
  },
  {
   "cell_type": "markdown",
   "metadata": {},
   "source": [
    "# Scratch"
   ]
  },
  {
   "cell_type": "code",
   "execution_count": null,
   "metadata": {
    "collapsed": true
   },
   "outputs": [],
   "source": []
  }
 ],
 "metadata": {
  "kernelspec": {
   "display_name": "Python 3",
   "language": "python",
   "name": "python3"
  },
  "language_info": {
   "codemirror_mode": {
    "name": "ipython",
    "version": 3
   },
   "file_extension": ".py",
   "mimetype": "text/x-python",
   "name": "python",
   "nbconvert_exporter": "python",
   "pygments_lexer": "ipython3",
   "version": "3.6.7"
  },
  "toc": {
   "colors": {
    "hover_highlight": "#DAA520",
    "navigate_num": "#000000",
    "navigate_text": "#333333",
    "running_highlight": "#FF0000",
    "selected_highlight": "#FFD700",
    "sidebar_border": "#EEEEEE",
    "wrapper_background": "#FFFFFF"
   },
   "moveMenuLeft": true,
   "nav_menu": {
    "height": "120px",
    "width": "252px"
   },
   "navigate_menu": true,
   "number_sections": true,
   "sideBar": true,
   "threshold": 4,
   "toc_cell": false,
   "toc_section_display": "block",
   "toc_window_display": false,
   "widenNotebook": false
  }
 },
 "nbformat": 4,
 "nbformat_minor": 2
}
