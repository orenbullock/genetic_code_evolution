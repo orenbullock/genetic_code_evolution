{
 "cells": [
  {
   "cell_type": "code",
   "execution_count": 1,
   "metadata": {},
   "outputs": [],
   "source": [
    "from Bio.Data import CodonTable\n",
    "import random\n",
    "import json\n",
    "\n",
    "import gce_dictionaries\n",
    "import gce_dictionaries_looped"
   ]
  },
  {
   "cell_type": "code",
   "execution_count": null,
   "metadata": {},
   "outputs": [],
   "source": []
  },
  {
   "cell_type": "code",
   "execution_count": 2,
   "metadata": {},
   "outputs": [],
   "source": [
    "codon_to_aa_dict = CodonTable.unambiguous_dna_by_id[11].forward_table"
   ]
  },
  {
   "cell_type": "code",
   "execution_count": 3,
   "metadata": {},
   "outputs": [],
   "source": [
    "aa_to_codon_dict = {}\n",
    "\n",
    "for codon,aminoacid in codon_to_aa_dict.items():\n",
    "    if aminoacid not in aa_to_codon_dict.keys():\n",
    "        aa_to_codon_dict[aminoacid] = []\n",
    "    aa_to_codon_dict[aminoacid].append(codon)"
   ]
  },
  {
   "cell_type": "code",
   "execution_count": 4,
   "metadata": {},
   "outputs": [],
   "source": [
    "aa_list = list(aa_to_codon_dict.keys())\n",
    "codon_list = list(aa_to_codon_dict.values())"
   ]
  },
  {
   "cell_type": "code",
   "execution_count": 5,
   "metadata": {},
   "outputs": [],
   "source": [
    "random.shuffle(aa_list)"
   ]
  },
  {
   "cell_type": "code",
   "execution_count": 6,
   "metadata": {},
   "outputs": [],
   "source": [
    "shuffled_aa_to_codon_dict = dict(zip(aa_list,codon_list))"
   ]
  },
  {
   "cell_type": "code",
   "execution_count": 7,
   "metadata": {},
   "outputs": [],
   "source": [
    "shuffled_codon_to_aa_dict = {}\n",
    "\n",
    "for aminoacid,codons in shuffled_aa_to_codon_dict.items():\n",
    "    for codon in codons:\n",
    "        shuffled_codon_to_aa_dict[codon] = aminoacid"
   ]
  },
  {
   "cell_type": "code",
   "execution_count": null,
   "metadata": {},
   "outputs": [],
   "source": []
  },
  {
   "cell_type": "code",
   "execution_count": 8,
   "metadata": {},
   "outputs": [],
   "source": [
    "# WRITE FILE\n",
    "with open(\"../data/shuffled_aa_to_codon_dict.json\", \"w\") as outfile:\n",
    "    json.dump(shuffled_aa_to_codon_dict, outfile)\n",
    "    \n",
    "with open(\"../data/shuffled_codon_to_aa_dict.json\", \"w\") as outfile:\n",
    "    json.dump(shuffled_codon_to_aa_dict, outfile)"
   ]
  },
  {
   "cell_type": "code",
   "execution_count": null,
   "metadata": {},
   "outputs": [],
   "source": []
  },
  {
   "cell_type": "code",
   "execution_count": null,
   "metadata": {},
   "outputs": [],
   "source": []
  },
  {
   "cell_type": "code",
   "execution_count": 9,
   "metadata": {},
   "outputs": [],
   "source": [
    "###############################################################################"
   ]
  },
  {
   "cell_type": "code",
   "execution_count": null,
   "metadata": {},
   "outputs": [],
   "source": []
  },
  {
   "cell_type": "code",
   "execution_count": 10,
   "metadata": {},
   "outputs": [
    {
     "ename": "FileNotFoundError",
     "evalue": "[Errno 2] No such file or directory: '../data/aa_to_codon_dict.json'",
     "output_type": "error",
     "traceback": [
      "\u001b[1;31m---------------------------------------------------------------------------\u001b[0m",
      "\u001b[1;31mFileNotFoundError\u001b[0m                         Traceback (most recent call last)",
      "\u001b[1;32m<ipython-input-10-8ba7e14c4a4f>\u001b[0m in \u001b[0;36m<module>\u001b[1;34m()\u001b[0m\n\u001b[0;32m      1\u001b[0m \u001b[1;31m# READ FILE\u001b[0m\u001b[1;33m\u001b[0m\u001b[1;33m\u001b[0m\u001b[0m\n\u001b[1;32m----> 2\u001b[1;33m \u001b[1;32mwith\u001b[0m \u001b[0mopen\u001b[0m\u001b[1;33m(\u001b[0m\u001b[1;34m\"../data/aa_to_codon_dict.json\"\u001b[0m\u001b[1;33m,\u001b[0m \u001b[1;34m\"r\"\u001b[0m\u001b[1;33m)\u001b[0m \u001b[1;32mas\u001b[0m \u001b[0minfile\u001b[0m\u001b[1;33m:\u001b[0m\u001b[1;33m\u001b[0m\u001b[0m\n\u001b[0m\u001b[0;32m      3\u001b[0m     \u001b[0maa_to_codon_dict\u001b[0m \u001b[1;33m=\u001b[0m \u001b[0mjson\u001b[0m\u001b[1;33m.\u001b[0m\u001b[0mload\u001b[0m\u001b[1;33m(\u001b[0m\u001b[0minfile\u001b[0m\u001b[1;33m)\u001b[0m\u001b[1;33m\u001b[0m\u001b[0m\n",
      "\u001b[1;31mFileNotFoundError\u001b[0m: [Errno 2] No such file or directory: '../data/aa_to_codon_dict.json'"
     ]
    }
   ],
   "source": [
    "# READ FILE\n",
    "with open(\"../data/aa_to_codon_dict.json\", \"r\") as infile:\n",
    "    aa_to_codon_dict = json.load(infile)"
   ]
  },
  {
   "cell_type": "code",
   "execution_count": null,
   "metadata": {},
   "outputs": [],
   "source": []
  },
  {
   "cell_type": "code",
   "execution_count": 11,
   "metadata": {},
   "outputs": [],
   "source": [
    "###############################################################################"
   ]
  },
  {
   "cell_type": "code",
   "execution_count": null,
   "metadata": {},
   "outputs": [],
   "source": []
  },
  {
   "cell_type": "code",
   "execution_count": 12,
   "metadata": {},
   "outputs": [],
   "source": [
    "# %load gce_dictionaries_looped.py\n",
    "from Bio.Data import CodonTable\n",
    "import random\n",
    "import json \n",
    "\n",
    "for i in range(10):\n",
    "    codon_to_aa_dict = CodonTable.unambiguous_dna_by_id[11].forward_table\n",
    "\n",
    "    aa_to_codon_dict = {}\n",
    "    for codon,aminoacid in codon_to_aa_dict.items():\n",
    "        if aminoacid not in aa_to_codon_dict.keys():\n",
    "            aa_to_codon_dict[aminoacid] = []\n",
    "        aa_to_codon_dict[aminoacid].append(codon)\n",
    "\n",
    "    aa_list = list(aa_to_codon_dict.keys())\n",
    "    codon_list = list(aa_to_codon_dict.values())\n",
    "\n",
    "    random.shuffle(aa_list)\n",
    "\n",
    "    shuffled_aa_to_codon_dict = dict(zip(aa_list,codon_list))          \n",
    "\n",
    "    shuffled_codon_to_aa_dict = {}\n",
    "\n",
    "    for aminoacid,codons in shuffled_aa_to_codon_dict.items():\n",
    "        for codon in codons:\n",
    "            shuffled_codon_to_aa_dict[codon] = aminoacid\n",
    "\n",
    "    with open(\"../data/shuffled_aa_to_codon_dict{}.json\".format(i), \"w\") as outfile:\n",
    "        json.dump(shuffled_aa_to_codon_dict, outfile)\n",
    "        \n",
    "    with open(\"../data/shuffled_codon_to_aa_dict{}.json\".format(i), \"w\") as outfile:\n",
    "        json.dump(shuffled_codon_to_aa_dict, outfile)\n"
   ]
  },
  {
   "cell_type": "code",
   "execution_count": null,
   "metadata": {},
   "outputs": [],
   "source": []
  },
  {
   "cell_type": "code",
   "execution_count": null,
   "metadata": {},
   "outputs": [],
   "source": []
  },
  {
   "cell_type": "code",
   "execution_count": null,
   "metadata": {},
   "outputs": [],
   "source": []
  },
  {
   "cell_type": "code",
   "execution_count": null,
   "metadata": {},
   "outputs": [],
   "source": []
  },
  {
   "cell_type": "code",
   "execution_count": null,
   "metadata": {},
   "outputs": [],
   "source": []
  },
  {
   "cell_type": "code",
   "execution_count": 13,
   "metadata": {},
   "outputs": [],
   "source": [
    "gce_dictionaries.gce(3)"
   ]
  },
  {
   "cell_type": "code",
   "execution_count": null,
   "metadata": {},
   "outputs": [],
   "source": []
  },
  {
   "cell_type": "code",
   "execution_count": null,
   "metadata": {},
   "outputs": [],
   "source": []
  },
  {
   "cell_type": "code",
   "execution_count": 14,
   "metadata": {},
   "outputs": [
    {
     "data": {
      "text/plain": [
       "({'G': ['TTT', 'TTC'],\n",
       "  'N': ['TTA', 'TTG', 'CTT', 'CTC', 'CTA', 'CTG'],\n",
       "  'E': ['TCT', 'TCC', 'TCA', 'TCG', 'AGT', 'AGC'],\n",
       "  'M': ['TAT', 'TAC'],\n",
       "  'T': ['TGT', 'TGC'],\n",
       "  'Q': ['TGG'],\n",
       "  'H': ['CCT', 'CCC', 'CCA', 'CCG'],\n",
       "  'F': ['CAT', 'CAC'],\n",
       "  'C': ['CAA', 'CAG'],\n",
       "  'D': ['CGT', 'CGC', 'CGA', 'CGG', 'AGA', 'AGG'],\n",
       "  'P': ['ATT', 'ATC', 'ATA'],\n",
       "  'K': ['ATG'],\n",
       "  'Y': ['ACT', 'ACC', 'ACA', 'ACG'],\n",
       "  'S': ['AAT', 'AAC'],\n",
       "  'R': ['AAA', 'AAG'],\n",
       "  'A': ['GTT', 'GTC', 'GTA', 'GTG'],\n",
       "  'I': ['GCT', 'GCC', 'GCA', 'GCG'],\n",
       "  'V': ['GAT', 'GAC'],\n",
       "  'L': ['GAA', 'GAG'],\n",
       "  'W': ['GGT', 'GGC', 'GGA', 'GGG']},\n",
       " {'TTT': 'G',\n",
       "  'TTC': 'G',\n",
       "  'TTA': 'N',\n",
       "  'TTG': 'N',\n",
       "  'CTT': 'N',\n",
       "  'CTC': 'N',\n",
       "  'CTA': 'N',\n",
       "  'CTG': 'N',\n",
       "  'TCT': 'E',\n",
       "  'TCC': 'E',\n",
       "  'TCA': 'E',\n",
       "  'TCG': 'E',\n",
       "  'AGT': 'E',\n",
       "  'AGC': 'E',\n",
       "  'TAT': 'M',\n",
       "  'TAC': 'M',\n",
       "  'TGT': 'T',\n",
       "  'TGC': 'T',\n",
       "  'TGG': 'Q',\n",
       "  'CCT': 'H',\n",
       "  'CCC': 'H',\n",
       "  'CCA': 'H',\n",
       "  'CCG': 'H',\n",
       "  'CAT': 'F',\n",
       "  'CAC': 'F',\n",
       "  'CAA': 'C',\n",
       "  'CAG': 'C',\n",
       "  'CGT': 'D',\n",
       "  'CGC': 'D',\n",
       "  'CGA': 'D',\n",
       "  'CGG': 'D',\n",
       "  'AGA': 'D',\n",
       "  'AGG': 'D',\n",
       "  'ATT': 'P',\n",
       "  'ATC': 'P',\n",
       "  'ATA': 'P',\n",
       "  'ATG': 'K',\n",
       "  'ACT': 'Y',\n",
       "  'ACC': 'Y',\n",
       "  'ACA': 'Y',\n",
       "  'ACG': 'Y',\n",
       "  'AAT': 'S',\n",
       "  'AAC': 'S',\n",
       "  'AAA': 'R',\n",
       "  'AAG': 'R',\n",
       "  'GTT': 'A',\n",
       "  'GTC': 'A',\n",
       "  'GTA': 'A',\n",
       "  'GTG': 'A',\n",
       "  'GCT': 'I',\n",
       "  'GCC': 'I',\n",
       "  'GCA': 'I',\n",
       "  'GCG': 'I',\n",
       "  'GAT': 'V',\n",
       "  'GAC': 'V',\n",
       "  'GAA': 'L',\n",
       "  'GAG': 'L',\n",
       "  'GGT': 'W',\n",
       "  'GGC': 'W',\n",
       "  'GGA': 'W',\n",
       "  'GGG': 'W'})"
      ]
     },
     "execution_count": 14,
     "metadata": {},
     "output_type": "execute_result"
    }
   ],
   "source": [
    "gce_dictionaries_looped.shuffle_and_return_aa_and_codon_dicts()"
   ]
  },
  {
   "cell_type": "code",
   "execution_count": 15,
   "metadata": {},
   "outputs": [],
   "source": [
    "gce_dictionaries_looped.shuffle_and_return_aa_and_codon_dicts?"
   ]
  },
  {
   "cell_type": "code",
   "execution_count": null,
   "metadata": {},
   "outputs": [],
   "source": []
  },
  {
   "cell_type": "code",
   "execution_count": null,
   "metadata": {},
   "outputs": [],
   "source": []
  },
  {
   "cell_type": "code",
   "execution_count": null,
   "metadata": {},
   "outputs": [],
   "source": []
  },
  {
   "cell_type": "code",
   "execution_count": null,
   "metadata": {},
   "outputs": [],
   "source": []
  },
  {
   "cell_type": "code",
   "execution_count": null,
   "metadata": {},
   "outputs": [],
   "source": []
  },
  {
   "cell_type": "code",
   "execution_count": 16,
   "metadata": {},
   "outputs": [
    {
     "data": {
      "text/plain": [
       "int"
      ]
     },
     "execution_count": 16,
     "metadata": {},
     "output_type": "execute_result"
    }
   ],
   "source": [
    "type(4)"
   ]
  },
  {
   "cell_type": "code",
   "execution_count": null,
   "metadata": {},
   "outputs": [],
   "source": []
  },
  {
   "cell_type": "code",
   "execution_count": 17,
   "metadata": {},
   "outputs": [],
   "source": [
    "def testing(ns_to_keep,shuffle = True,trans_table = 11):\n",
    "    '''\n",
    "    ns_to_keep refers to the number of codons for a given amino acid. \n",
    "    - Amino acids with these n's will be left in the dictionary to be shuffled. \n",
    "    - Any n's not included will be excluded from the dictionary.\n",
    "    - Must be a list of ints\n",
    "    - Function work well for ints 1-6, excluding 5\n",
    "    '''\n",
    "    \n",
    "#     if type(ns_to_keep) != int:\n",
    "#         print(\"error: please input an int\")\n",
    "#         return\n",
    "#     else:\n",
    "#         if number not in [1,2,3,4,6]:\n",
    "#             print(\"error\")\n",
    "#             return\n",
    "    \n",
    "    codon_to_aa_dict = CodonTable.unambiguous_dna_by_id[trans_table].forward_table\n",
    "\n",
    "    aa_to_codon_dict = {}\n",
    "    for codon,aminoacid in codon_to_aa_dict.items():\n",
    "        if aminoacid not in aa_to_codon_dict.keys():\n",
    "            aa_to_codon_dict[aminoacid] = []\n",
    "        aa_to_codon_dict[aminoacid].append(codon)\n",
    "    \n",
    "    for aminoacid,codons in list(aa_to_codon_dict.items()):\n",
    "        if len(codons) not in ns_to_keep:\n",
    "            del aa_to_codon_dict[aminoacid] \n",
    "            \n",
    "    if not shuffle:\n",
    "        return aa_to_codon_dict, codon_to_aa_dict\n",
    "        \n",
    "    aa_list = list(aa_to_codon_dict.keys())\n",
    "    codon_list = list(aa_to_codon_dict.values())\n",
    "\n",
    "    random.shuffle(aa_list)\n",
    "\n",
    "    shuffled_aa_to_codon_dict = dict(zip(aa_list,codon_list))          \n",
    "\n",
    "    shuffled_codon_to_aa_dict = {}\n",
    "\n",
    "    for aminoacid,codons in shuffled_aa_to_codon_dict.items():\n",
    "        for codon in codons:\n",
    "            shuffled_codon_to_aa_dict[codon] = aminoacid\n",
    "\n",
    "    return shuffled_aa_to_codon_dict, shuffled_codon_to_aa_dict\n"
   ]
  },
  {
   "cell_type": "code",
   "execution_count": 18,
   "metadata": {},
   "outputs": [
    {
     "data": {
      "text/plain": [
       "{'TTT': 'F',\n",
       " 'TTC': 'F',\n",
       " 'TTA': 'L',\n",
       " 'TTG': 'L',\n",
       " 'TCT': 'S',\n",
       " 'TCC': 'S',\n",
       " 'TCA': 'S',\n",
       " 'TCG': 'S',\n",
       " 'TAT': 'Y',\n",
       " 'TAC': 'Y',\n",
       " 'TGT': 'C',\n",
       " 'TGC': 'C',\n",
       " 'TGG': 'W',\n",
       " 'CTT': 'L',\n",
       " 'CTC': 'L',\n",
       " 'CTA': 'L',\n",
       " 'CTG': 'L',\n",
       " 'CCT': 'P',\n",
       " 'CCC': 'P',\n",
       " 'CCA': 'P',\n",
       " 'CCG': 'P',\n",
       " 'CAT': 'H',\n",
       " 'CAC': 'H',\n",
       " 'CAA': 'Q',\n",
       " 'CAG': 'Q',\n",
       " 'CGT': 'R',\n",
       " 'CGC': 'R',\n",
       " 'CGA': 'R',\n",
       " 'CGG': 'R',\n",
       " 'ATT': 'I',\n",
       " 'ATC': 'I',\n",
       " 'ATA': 'I',\n",
       " 'ATG': 'M',\n",
       " 'ACT': 'T',\n",
       " 'ACC': 'T',\n",
       " 'ACA': 'T',\n",
       " 'ACG': 'T',\n",
       " 'AAT': 'N',\n",
       " 'AAC': 'N',\n",
       " 'AAA': 'K',\n",
       " 'AAG': 'K',\n",
       " 'AGT': 'S',\n",
       " 'AGC': 'S',\n",
       " 'AGA': 'R',\n",
       " 'AGG': 'R',\n",
       " 'GTT': 'V',\n",
       " 'GTC': 'V',\n",
       " 'GTA': 'V',\n",
       " 'GTG': 'V',\n",
       " 'GCT': 'A',\n",
       " 'GCC': 'A',\n",
       " 'GCA': 'A',\n",
       " 'GCG': 'A',\n",
       " 'GAT': 'D',\n",
       " 'GAC': 'D',\n",
       " 'GAA': 'E',\n",
       " 'GAG': 'E',\n",
       " 'GGT': 'G',\n",
       " 'GGC': 'G',\n",
       " 'GGA': 'G',\n",
       " 'GGG': 'G'}"
      ]
     },
     "execution_count": 18,
     "metadata": {},
     "output_type": "execute_result"
    }
   ],
   "source": [
    "a,b = testing([1,2,3,4,6], shuffle = False)\n",
    "b\n"
   ]
  },
  {
   "cell_type": "code",
   "execution_count": 19,
   "metadata": {},
   "outputs": [
    {
     "name": "stdout",
     "output_type": "stream",
     "text": [
      "61\n"
     ]
    }
   ],
   "source": [
    "print(len(b.keys()))"
   ]
  },
  {
   "cell_type": "code",
   "execution_count": null,
   "metadata": {},
   "outputs": [],
   "source": []
  },
  {
   "cell_type": "code",
   "execution_count": null,
   "metadata": {},
   "outputs": [],
   "source": []
  },
  {
   "cell_type": "code",
   "execution_count": null,
   "metadata": {},
   "outputs": [],
   "source": []
  },
  {
   "cell_type": "code",
   "execution_count": null,
   "metadata": {},
   "outputs": [],
   "source": []
  },
  {
   "cell_type": "code",
   "execution_count": null,
   "metadata": {},
   "outputs": [],
   "source": []
  },
  {
   "cell_type": "code",
   "execution_count": 20,
   "metadata": {},
   "outputs": [],
   "source": [
    "a,b = testing([1, 2, 3, 4, 6])"
   ]
  },
  {
   "cell_type": "code",
   "execution_count": null,
   "metadata": {},
   "outputs": [],
   "source": []
  },
  {
   "cell_type": "code",
   "execution_count": 45,
   "metadata": {},
   "outputs": [],
   "source": [
    "a6,b6 = testing([6])\n",
    "a4,b4 = testing([4])\n",
    "a3,b3 = testing([3])\n",
    "a2,b2 = testing([2])\n",
    "a1,b1 = testing([1])\n",
    "\n"
   ]
  },
  {
   "cell_type": "code",
   "execution_count": 46,
   "metadata": {},
   "outputs": [
    {
     "data": {
      "text/plain": [
       "{'S': ['TTA', 'TTG', 'CTT', 'CTC', 'CTA', 'CTG'],\n",
       " 'R': ['TCT', 'TCC', 'TCA', 'TCG', 'AGT', 'AGC'],\n",
       " 'L': ['CGT', 'CGC', 'CGA', 'CGG', 'AGA', 'AGG']}"
      ]
     },
     "execution_count": 46,
     "metadata": {},
     "output_type": "execute_result"
    }
   ],
   "source": [
    "a6"
   ]
  },
  {
   "cell_type": "code",
   "execution_count": 47,
   "metadata": {},
   "outputs": [
    {
     "data": {
      "text/plain": [
       "{'P': ['CCT', 'CCC', 'CCA', 'CCG'],\n",
       " 'A': ['ACT', 'ACC', 'ACA', 'ACG'],\n",
       " 'G': ['GTT', 'GTC', 'GTA', 'GTG'],\n",
       " 'V': ['GCT', 'GCC', 'GCA', 'GCG'],\n",
       " 'T': ['GGT', 'GGC', 'GGA', 'GGG']}"
      ]
     },
     "execution_count": 47,
     "metadata": {},
     "output_type": "execute_result"
    }
   ],
   "source": [
    "a4"
   ]
  },
  {
   "cell_type": "code",
   "execution_count": 48,
   "metadata": {},
   "outputs": [
    {
     "data": {
      "text/plain": [
       "{'I': ['ATT', 'ATC', 'ATA']}"
      ]
     },
     "execution_count": 48,
     "metadata": {},
     "output_type": "execute_result"
    }
   ],
   "source": [
    "a3"
   ]
  },
  {
   "cell_type": "code",
   "execution_count": 49,
   "metadata": {},
   "outputs": [
    {
     "data": {
      "text/plain": [
       "{'E': ['TTT', 'TTC'],\n",
       " 'D': ['TAT', 'TAC'],\n",
       " 'N': ['TGT', 'TGC'],\n",
       " 'H': ['CAT', 'CAC'],\n",
       " 'F': ['CAA', 'CAG'],\n",
       " 'Y': ['AAT', 'AAC'],\n",
       " 'C': ['AAA', 'AAG'],\n",
       " 'K': ['GAT', 'GAC'],\n",
       " 'Q': ['GAA', 'GAG']}"
      ]
     },
     "execution_count": 49,
     "metadata": {},
     "output_type": "execute_result"
    }
   ],
   "source": [
    "a2"
   ]
  },
  {
   "cell_type": "code",
   "execution_count": 50,
   "metadata": {},
   "outputs": [
    {
     "data": {
      "text/plain": [
       "{'M': ['TGG'], 'W': ['ATG']}"
      ]
     },
     "execution_count": 50,
     "metadata": {},
     "output_type": "execute_result"
    }
   ],
   "source": [
    "a1"
   ]
  },
  {
   "cell_type": "code",
   "execution_count": 51,
   "metadata": {},
   "outputs": [],
   "source": [
    "atotal = {**a1, **a2, **a3, **a4, **a6}"
   ]
  },
  {
   "cell_type": "code",
   "execution_count": 52,
   "metadata": {},
   "outputs": [
    {
     "data": {
      "text/plain": [
       "{'M': ['TGG'],\n",
       " 'W': ['ATG'],\n",
       " 'E': ['TTT', 'TTC'],\n",
       " 'D': ['TAT', 'TAC'],\n",
       " 'N': ['TGT', 'TGC'],\n",
       " 'H': ['CAT', 'CAC'],\n",
       " 'F': ['CAA', 'CAG'],\n",
       " 'Y': ['AAT', 'AAC'],\n",
       " 'C': ['AAA', 'AAG'],\n",
       " 'K': ['GAT', 'GAC'],\n",
       " 'Q': ['GAA', 'GAG'],\n",
       " 'I': ['ATT', 'ATC', 'ATA'],\n",
       " 'P': ['CCT', 'CCC', 'CCA', 'CCG'],\n",
       " 'A': ['ACT', 'ACC', 'ACA', 'ACG'],\n",
       " 'G': ['GTT', 'GTC', 'GTA', 'GTG'],\n",
       " 'V': ['GCT', 'GCC', 'GCA', 'GCG'],\n",
       " 'T': ['GGT', 'GGC', 'GGA', 'GGG'],\n",
       " 'S': ['TTA', 'TTG', 'CTT', 'CTC', 'CTA', 'CTG'],\n",
       " 'R': ['TCT', 'TCC', 'TCA', 'TCG', 'AGT', 'AGC'],\n",
       " 'L': ['CGT', 'CGC', 'CGA', 'CGG', 'AGA', 'AGG']}"
      ]
     },
     "execution_count": 52,
     "metadata": {},
     "output_type": "execute_result"
    }
   ],
   "source": [
    "atotal"
   ]
  },
  {
   "cell_type": "code",
   "execution_count": 53,
   "metadata": {},
   "outputs": [
    {
     "data": {
      "text/plain": [
       "20"
      ]
     },
     "execution_count": 53,
     "metadata": {},
     "output_type": "execute_result"
    }
   ],
   "source": [
    "len(atotal.keys()){**b2,**b4,**b6}"
   ]
  },
  {
   "cell_type": "code",
   "execution_count": 29,
   "metadata": {},
   "outputs": [
    {
     "ename": "NameError",
     "evalue": "name 'b4' is not defined",
     "output_type": "error",
     "traceback": [
      "\u001b[1;31m---------------------------------------------------------------------------\u001b[0m",
      "\u001b[1;31mNameError\u001b[0m                                 Traceback (most recent call last)",
      "\u001b[1;32m<ipython-input-29-f1de621ff93b>\u001b[0m in \u001b[0;36m<module>\u001b[1;34m()\u001b[0m\n\u001b[1;32m----> 1\u001b[1;33m \u001b[0mbtotal\u001b[0m \u001b[1;33m=\u001b[0m \u001b[1;33m{\u001b[0m\u001b[1;33m**\u001b[0m\u001b[0mb2\u001b[0m\u001b[1;33m,\u001b[0m\u001b[1;33m**\u001b[0m\u001b[0mb4\u001b[0m\u001b[1;33m,\u001b[0m\u001b[1;33m**\u001b[0m\u001b[0mb6\u001b[0m\u001b[1;33m}\u001b[0m\u001b[1;33m\u001b[0m\u001b[0m\n\u001b[0m",
      "\u001b[1;31mNameError\u001b[0m: name 'b4' is not defined"
     ]
    }
   ],
   "source": [
    "btotal = {**b2,**b4,**b6}"
   ]
  },
  {
   "cell_type": "code",
   "execution_count": 30,
   "metadata": {},
   "outputs": [
    {
     "ename": "NameError",
     "evalue": "name 'btotal' is not defined",
     "output_type": "error",
     "traceback": [
      "\u001b[1;31m---------------------------------------------------------------------------\u001b[0m",
      "\u001b[1;31mNameError\u001b[0m                                 Traceback (most recent call last)",
      "\u001b[1;32m<ipython-input-30-9cf512f37f08>\u001b[0m in \u001b[0;36m<module>\u001b[1;34m()\u001b[0m\n\u001b[1;32m----> 1\u001b[1;33m \u001b[0mbtotal\u001b[0m\u001b[1;33m\u001b[0m\u001b[0m\n\u001b[0m",
      "\u001b[1;31mNameError\u001b[0m: name 'btotal' is not defined"
     ]
    }
   ],
   "source": [
    "btotal"
   ]
  },
  {
   "cell_type": "code",
   "execution_count": null,
   "metadata": {},
   "outputs": [],
   "source": []
  },
  {
   "cell_type": "code",
   "execution_count": null,
   "metadata": {},
   "outputs": [],
   "source": []
  },
  {
   "cell_type": "code",
   "execution_count": null,
   "metadata": {},
   "outputs": [],
   "source": []
  }
 ],
 "metadata": {
  "kernelspec": {
   "display_name": "Python 3",
   "language": "python",
   "name": "python3"
  },
  "language_info": {
   "codemirror_mode": {
    "name": "ipython",
    "version": 3
   },
   "file_extension": ".py",
   "mimetype": "text/x-python",
   "name": "python",
   "nbconvert_exporter": "python",
   "pygments_lexer": "ipython3",
   "version": "3.6.5"
  }
 },
 "nbformat": 4,
 "nbformat_minor": 2
}
