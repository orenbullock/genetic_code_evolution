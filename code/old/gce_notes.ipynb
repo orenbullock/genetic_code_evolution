{
 "cells": [
  {
   "cell_type": "code",
   "execution_count": null,
   "metadata": {},
   "outputs": [],
   "source": [
    "# Mixing up 6's with 6's, 4's with 4's, etc.\n",
    "\n",
    "aas6 = []\n",
    "codons6 = []\n",
    "aas4 = []\n",
    "codons4 = []\n",
    "\n",
    "aas4 = []\n",
    "codons4 = []\n",
    "\n",
    "aas4 = []\n",
    "codons4 = []\n",
    "\n",
    "aas4 = []\n",
    "codons4 = []\n",
    "\n",
    "for aa, codon_i in zip(aas, codons):\n",
    "    print(aa, codon_i)\n",
    "    if len(codon_i) == 6:\n",
    "        aas6.append(aa)\n",
    "        codons6.append(codon_i)\n",
    "    if len(codon_i) == 4:\n",
    "        aas4.append(aa)\n",
    "        codons4.append(codon_i)"
   ]
  },
  {
   "cell_type": "code",
   "execution_count": null,
   "metadata": {},
   "outputs": [],
   "source": [
    "# Importing a file - %load <file> (in relative path)\n",
    "\n",
    "# %load gce.py\n",
    "from Bio.Data import CodonTable\n",
    "import random\n",
    "import json \n",
    "\n",
    "for i in range(10):\n",
    "    codonTable = CodonTable.unambiguous_dna_by_id[11]\n",
    "\n",
    "    aaDict = codonTable.forward_table\n",
    "\n",
    "    newDict = {}\n",
    "    for codon, aminoacid in aaDict.items():\n",
    "        if aminoacid not in newDict.keys():\n",
    "            newDict[aminoacid] = []\n",
    "        newDict[aminoacid].append(codon)\n",
    "\n",
    "    aas = list(newDict.keys())\n",
    "    codons = list(newDict.values())\n",
    "\n",
    "    random.shuffle(aas)\n",
    "\n",
    "    shuffleDict = dict(zip(aas,codons))          \n",
    "\n",
    "    dict1 = {}\n",
    "\n",
    "    for aminoacid,codons in shuffleDict.items():\n",
    "        for codon in codons:\n",
    "            dict1[codon] = aminoacid\n",
    "\n",
    "    with open(\"../data/aa_to_codon_dict.json\", \"w\") as outfile:\n",
    "        json.dump(shuffleDict,outfile)\n"
   ]
  },
  {
   "cell_type": "code",
   "execution_count": 2,
   "metadata": {},
   "outputs": [
    {
     "data": {
      "text/plain": [
       "'good3.14bye'"
      ]
     },
     "execution_count": 2,
     "metadata": {},
     "output_type": "execute_result"
    }
   ],
   "source": [
    "# String Formatting\n",
    "\n",
    "'good{0:.2f}bye'.format(3.141592788)"
   ]
  },
  {
   "cell_type": "code",
   "execution_count": null,
   "metadata": {},
   "outputs": [],
   "source": [
    "# Write File\n",
    "\n",
    "with open(\"../data/shuffled_aa_to_codon_dict.json\", \"w\") as outfile:\n",
    "        json.dump(shuffled_aa_to_codon_dict, outfile)\n",
    "        \n",
    "# Read File\n",
    "\n",
    "with open(\"../data/aa_to_codon_dict.json\", \"r\") as infile:\n",
    "    aa_to_codon_dict = json.load(infile)"
   ]
  },
  {
   "cell_type": "markdown",
   "metadata": {},
   "source": [
    "~Markdown Cells~\n",
    "\n",
    "# Hello > big and blue\n",
    "**hello** > bolded\n",
    "hello > normal"
   ]
  },
  {
   "cell_type": "code",
   "execution_count": null,
   "metadata": {},
   "outputs": [],
   "source": [
    "# Future Work\n",
    "# - Clean up code\n",
    "# - Include code to write both dictionaries, tag both files the same\n",
    "# - Mix up 6's with 6's, 4's with 4's, etc.\n",
    "#   - Produce multiple different dicts, then add them back together\n",
    "\n",
    "# - Write comments in code\n",
    "# - Clean up text file\n",
    "# - Consolidate info into you text file\n",
    "\n",
    "\n",
    "# Look into:\n",
    "# - Synthetic Biology\n",
    "# - Refactoring the Genetic Code for Increased Evolvability - Ryan Gill"
   ]
  },
  {
   "cell_type": "code",
   "execution_count": null,
   "metadata": {},
   "outputs": [],
   "source": []
  },
  {
   "cell_type": "code",
   "execution_count": null,
   "metadata": {},
   "outputs": [],
   "source": []
  }
 ],
 "metadata": {
  "kernelspec": {
   "display_name": "Python 3",
   "language": "python",
   "name": "python3"
  },
  "language_info": {
   "codemirror_mode": {
    "name": "ipython",
    "version": 3
   },
   "file_extension": ".py",
   "mimetype": "text/x-python",
   "name": "python",
   "nbconvert_exporter": "python",
   "pygments_lexer": "ipython3",
   "version": "3.6.5"
  }
 },
 "nbformat": 4,
 "nbformat_minor": 2
}
