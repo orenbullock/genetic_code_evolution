{
 "cells": [
  {
   "cell_type": "code",
   "execution_count": 28,
   "metadata": {},
   "outputs": [
    {
     "name": "stdout",
     "output_type": "stream",
     "text": [
      "usage: gce.py [-h] {mode1,mode2} shuffling\n",
      "\n",
      "positional arguments:\n",
      "  {mode1,mode2}  Select mode. PUT MORE HERE\n",
      "  shuffling      Number of shuffles to perform PUT MORE HERE\n",
      "\n",
      "optional arguments:\n",
      "  -h, --help     show this help message and exit\n"
     ]
    }
   ],
   "source": [
    "%run gce.py -h"
   ]
  },
  {
   "cell_type": "code",
   "execution_count": null,
   "metadata": {},
   "outputs": [],
   "source": []
  },
  {
   "cell_type": "code",
   "execution_count": null,
   "metadata": {},
   "outputs": [],
   "source": [
    "# -h help function"
   ]
  }
 ],
 "metadata": {
  "kernelspec": {
   "display_name": "Python 3",
   "language": "python",
   "name": "python3"
  },
  "language_info": {
   "codemirror_mode": {
    "name": "ipython",
    "version": 3
   },
   "file_extension": ".py",
   "mimetype": "text/x-python",
   "name": "python",
   "nbconvert_exporter": "python",
   "pygments_lexer": "ipython3",
   "version": "3.6.5"
  }
 },
 "nbformat": 4,
 "nbformat_minor": 2
}
